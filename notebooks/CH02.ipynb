{
 "cells": [
  {
   "cell_type": "code",
   "execution_count": 339,
   "metadata": {},
   "outputs": [],
   "source": [
    "import numpy as np\n",
    "import scipy as sp\n",
    "import matplotlib.pyplot as plt\n",
    "import seaborn as sns\n",
    "\n",
    "plt.style.use(\"seaborn-v0_8\")\n",
    "plt.rcParams[\"font.family\"] = \"monospace\""
   ]
  },
  {
   "cell_type": "code",
   "execution_count": 340,
   "metadata": {},
   "outputs": [],
   "source": [
    "DTYPE = np.float32\n",
    "Array = np.ndarray"
   ]
  },
  {
   "cell_type": "code",
   "execution_count": 341,
   "metadata": {},
   "outputs": [],
   "source": [
    "X: np.ndarray = np.array([.75, .4], dtype=DTYPE).reshape(2, 1)\n",
    "t: np.ndarray = np.array([.2, .4], dtype=DTYPE).reshape(2, 1)\n",
    "I: np.ndarray = np.eye(2, dtype=DTYPE)"
   ]
  },
  {
   "cell_type": "code",
   "execution_count": 342,
   "metadata": {},
   "outputs": [
    {
     "data": {
      "text/plain": [
       "array([[1. , 0. , 0.2],\n",
       "       [0. , 1. , 0.4]], dtype=float32)"
      ]
     },
     "execution_count": 342,
     "metadata": {},
     "output_type": "execute_result"
    }
   ],
   "source": [
    "# Translation\n",
    "T: Array = np.concatenate([I, t], axis=1)      # Translation Matrix (2 x 3)\n",
    "T"
   ]
  },
  {
   "cell_type": "code",
   "execution_count": 343,
   "metadata": {},
   "outputs": [
    {
     "data": {
      "text/plain": [
       "array([[0.75      ],\n",
       "       [0.40000001],\n",
       "       [1.        ]])"
      ]
     },
     "execution_count": 343,
     "metadata": {},
     "output_type": "execute_result"
    }
   ],
   "source": [
    "X_aug = np.vstack([X, 1.])\n",
    "X_aug"
   ]
  },
  {
   "cell_type": "code",
   "execution_count": 344,
   "metadata": {},
   "outputs": [
    {
     "data": {
      "text/plain": [
       "array([[0.95      ],\n",
       "       [0.80000001]])"
      ]
     },
     "execution_count": 344,
     "metadata": {},
     "output_type": "execute_result"
    }
   ],
   "source": [
    "X_translated = T @ X_aug        # Translation with MatMul\n",
    "X_translated"
   ]
  },
  {
   "cell_type": "code",
   "execution_count": 345,
   "metadata": {},
   "outputs": [
    {
     "data": {
      "text/plain": [
       "True"
      ]
     },
     "execution_count": 345,
     "metadata": {},
     "output_type": "execute_result"
    }
   ],
   "source": [
    "X_translated.all() == (X + t).all()     # Same result"
   ]
  },
  {
   "cell_type": "code",
   "execution_count": 346,
   "metadata": {},
   "outputs": [],
   "source": [
    "# Rotation\n",
    "s: float = 1.\n",
    "theta: float = 90."
   ]
  },
  {
   "cell_type": "code",
   "execution_count": 347,
   "metadata": {},
   "outputs": [],
   "source": [
    "def deg2rad(degree: float) -> float:\n",
    "    \"\"\"\n",
    "    Converts degree to radians.\n",
    "\n",
    "    Parameters\n",
    "    ----------\n",
    "    degree : float\n",
    "\n",
    "    Returns\n",
    "    -------\n",
    "    Degree converted to radians\n",
    "    \"\"\"\n",
    "    return np.multiply(degree, np.pi / 180.)"
   ]
  },
  {
   "cell_type": "code",
   "execution_count": 348,
   "metadata": {},
   "outputs": [],
   "source": [
    "theta = deg2rad(theta)\n",
    "\n",
    "X: np.ndarray = np.array([1., 0.], dtype=DTYPE).reshape(2, 1)\n",
    "t: np.ndarray = np.array([0., 0.], dtype=DTYPE).reshape(2, 1)\n",
    "X_aug = np.vstack([X, 1.])\n",
    "\n",
    "R: Array = np.array([\n",
    "    [np.cos(theta), -np.sin(theta)],\n",
    "    [np.sin(theta), np.cos(theta)]\n",
    "], dtype=DTYPE)"
   ]
  },
  {
   "cell_type": "code",
   "execution_count": 349,
   "metadata": {},
   "outputs": [
    {
     "name": "stdout",
     "output_type": "stream",
     "text": [
      "Rotated Point X:\n",
      " [[6.12323426e-17]\n",
      " [1.00000000e+00]]\n"
     ]
    }
   ],
   "source": [
    "X_rotated = np.concatenate([s * R, t], axis=1) @ X_aug\n",
    "print(f\"Rotated Point X:\\n\", X_rotated)"
   ]
  },
  {
   "cell_type": "code",
   "execution_count": 350,
   "metadata": {},
   "outputs": [
    {
     "data": {
      "image/png": "[encoded data removed]",
      "text/plain": [
       "<Figure size 800x550 with 1 Axes>"
      ]
     },
     "metadata": {},
     "output_type": "display_data"
    }
   ],
   "source": [
    "plt.scatter(X[0], X[1], label=\"Point X\");\n",
    "plt.scatter(X_rotated[0], X_rotated[1], label=\"Rotated Point X\");\n",
    "plt.title(\"Rotation of a Point\");\n",
    "plt.legend(loc='best');\n",
    "plt.xlim([-1.5, 1.5]);\n",
    "plt.ylim([-1.5, 1.5]);\n",
    "plt.show()"
   ]
  }
 ],
 "metadata": {
  "kernelspec": {
   "display_name": "img",
   "language": "python",
   "name": "python3"
  },
  "language_info": {
   "codemirror_mode": {
    "name": "ipython",
    "version": 3
   },
   "file_extension": ".py",
   "mimetype": "text/x-python",
   "name": "python",
   "nbconvert_exporter": "python",
   "pygments_lexer": "ipython3",
   "version": "3.8.12"
  }
 },
 "nbformat": 4,
 "nbformat_minor": 2
}
